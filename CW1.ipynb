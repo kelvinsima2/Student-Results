{
 "cells": [
  {
   "cell_type": "markdown",
   "id": "8905b504",
   "metadata": {},
   "source": [
    "## Import Libraries"
   ]
  },
  {
   "cell_type": "code",
   "execution_count": 22,
   "id": "c0d554d1",
   "metadata": {},
   "outputs": [],
   "source": [
    "# First pandas and numpy libraries are imported.\n",
    "import pandas as pd\n",
    "import numpy as np"
   ]
  },
  {
   "cell_type": "markdown",
   "id": "c2ed44a5",
   "metadata": {},
   "source": [
    "## Clean Data"
   ]
  },
  {
   "cell_type": "code",
   "execution_count": 23,
   "id": "b2716f01",
   "metadata": {},
   "outputs": [],
   "source": [
    "# Next, the csv files containing test results are read and stored in dataframes. \n",
    "# The csv files are accessed from the TestResult folder.\n",
    "df_Test1 = pd.read_csv('TestResult/Formative_Test_1.csv')\n",
    "df_Test2 = pd.read_csv('TestResult/Formative_Test_2.csv')\n",
    "df_Test3 = pd.read_csv('TestResult/Formative_Test_3.csv')\n",
    "df_Test4 = pd.read_csv('TestResult/Formative_Test_4.csv')\n",
    "df_MockTest = pd.read_csv('TestResult/Formative_Mock_Test.csv')\n",
    "df_SumTest = pd.read_csv('TestResult/SumTest.csv')\n"
   ]
  },
  {
   "cell_type": "code",
   "execution_count": 24,
   "id": "d3bc2be0",
   "metadata": {},
   "outputs": [],
   "source": [
    "def CleanTest(df):\n",
    "    \"\"\" Cleans data frame:\n",
    "        df = dataframe(pandas.core.frame.DataFrame).\"\"\"\n",
    "    \n",
    "    # Make a copy of the data frame.\n",
    "    df_copy = df.copy()\n",
    "    \n",
    "    # Remove space between column names.\n",
    "    df_copy.columns = df_copy.columns.str.replace(' ', '') \n",
    "    \n",
    "    # Remove mark information from question column names.\n",
    "    df_copy.columns = df_copy.columns.str.split('/')\n",
    "    df_copy.columns = [item[0] for item in df_copy.columns]\n",
    "    \n",
    "    # Replace all missing values with zero.\n",
    "    df_copy = df_copy.replace('-', 0)\n",
    "    \n",
    "    # Sort researchid and grade, and if there are more than one results for a student, only the highest mark is selected.\n",
    "    df_copy = df_copy.sort_values(['researchid', 'Grade'],\n",
    "                                  ascending = (False, False)).groupby('researchid').first()\n",
    "    \n",
    "    # Remove the 'State' and 'Timetaken' columns.\n",
    "    df_copy.drop(['State', 'Timetaken'], axis = 1, inplace = True)\n",
    "    \n",
    "    # Return the cleaned data frame.\n",
    "    return df_copy\n",
    "\n",
    "# Clean all the test dataframes and assign new variable names.\n",
    "df_CleanTest1 = CleanTest(df_Test1)\n",
    "df_CleanTest2 = CleanTest(df_Test2)\n",
    "df_CleanTest3 = CleanTest(df_Test3)\n",
    "df_CleanTest4 = CleanTest(df_Test4)\n",
    "df_CleanMockTest = CleanTest(df_MockTest)\n",
    "df_CleanSumTest = CleanTest(df_SumTest)"
   ]
  },
  {
   "cell_type": "markdown",
   "id": "dcc0f5c9",
   "metadata": {},
   "source": [
    "## Format Data"
   ]
  },
  {
   "cell_type": "code",
   "execution_count": 25,
   "id": "ca545440",
   "metadata": {},
   "outputs": [],
   "source": [
    "def FormatCleanTest(dfClean, dfRaw):\n",
    "    \"\"\" Normalizes grades in a dataframe:\n",
    "        dfClean = cleaned data frame(pandas.core.frame.DataFrame)\n",
    "        dfRaw = original dataframe that has not been cleaned (pandas.core.frame.DataFrame).\"\"\"\n",
    "    \n",
    "    # Make copies of the clean and original data frames. \n",
    "    # The original data frame is needed because it contains the mark information of questions.\n",
    "    df_Cleancopy = dfClean.copy()\n",
    "    df_Rawcopy = dfRaw.copy()\n",
    "    \n",
    "    # Remove spaces between column names, and split the question name and mark information in the question column names.\n",
    "    df_Rawcopy.columns = df_Rawcopy.columns.str.replace(' ', '')\n",
    "    df_Rawcopy.columns = df_Rawcopy.columns.str.split('/')\n",
    "    \n",
    "    # Put the Grade and question column names in a list and extract the mark information from the column names\n",
    "    df_Rawcopy.columns[5:,].tolist()\n",
    "    mylist = []\n",
    "    for val in df_Rawcopy.columns[5:,].tolist():\n",
    "        mylist.append(float(val[1]))\n",
    "    \n",
    "    # Normalize the values in each grade and question column by multiplying each value by 10000 and dividing by the mark information.\n",
    "    df_Cleancopy.loc[:, df_Cleancopy.columns.str.startswith(\"Q\")] = df_Cleancopy.loc[:,df_Cleancopy.columns.str.startswith(\"Q\")].astype(float)*10000/(np.array(mylist[1:]))\n",
    "    df_Cleancopy['Grade'] = df_Cleancopy['Grade'].astype(float) * 10000/mylist[0]\n",
    "    \n",
    "    # Return the normalized dataframe\n",
    "    return df_Cleancopy\n",
    "\n",
    "# Format each of the clean test data frames and store them in new variables.\n",
    "df_FormattedCleanTest1 = FormatCleanTest(df_CleanTest1, df_Test1)\n",
    "df_FormattedCleanTest2 = FormatCleanTest(df_CleanTest2, df_Test2)\n",
    "df_FormattedCleanTest3 = FormatCleanTest(df_CleanTest3, df_Test3)\n",
    "df_FormattedCleanTest4 = FormatCleanTest(df_CleanTest4, df_Test4)\n",
    "df_FormattedCleanMockTest = FormatCleanTest(df_CleanMockTest, df_MockTest)\n",
    "df_FormattedCleanSumTest = FormatCleanTest(df_CleanSumTest, df_SumTest)   "
   ]
  },
  {
   "cell_type": "markdown",
   "id": "3f09610e",
   "metadata": {},
   "source": [
    "## Store Data"
   ]
  },
  {
   "cell_type": "code",
   "execution_count": 26,
   "id": "865ea11a",
   "metadata": {},
   "outputs": [],
   "source": [
    "# Import sqlite library.\n",
    "import sqlite3"
   ]
  },
  {
   "cell_type": "code",
   "execution_count": 27,
   "id": "654fde86",
   "metadata": {},
   "outputs": [],
   "source": [
    "def StoreData(df, tablename):\n",
    "    \"\"\"Stores data frame as an sql table in ResultDatabase:\n",
    "       df = formatted and cleaned data frame(pandas.core.frame.DataFrame)\n",
    "       tablename = name of sql table(str).\"\"\"\n",
    "    \n",
    "    # Count how many questions there are in the data frame.\n",
    "    questions = df.columns.str.startswith(\"Q\").sum()\n",
    "    \n",
    "    # The SQL CREATE TABLE command is written and columns necessary for the data frame storage are created.\n",
    "    # The string is stored in the sqltable variable.\n",
    "    sqltable = \"\"\" CREATE TABLE IF NOT EXISTS\"\"\" + \" \" + tablename + \"\"\"(\n",
    "    researchid INT PRIMARY KEY,\n",
    "    Startedon CHAR(30),\n",
    "    Completed CHAR(30),\n",
    "    Grade FLOAT\\n,\"\"\" \n",
    "    \n",
    "    for i in range(1,questions + 1):\n",
    "        if i != questions:\n",
    "            sqltable = sqltable + \"Q\"+str(i)+\" Float,\\n\"\n",
    "        else:\n",
    "            sqltable = sqltable + \"Q\"+str(i)+\" Float\\n\"\n",
    "            \n",
    "        \n",
    "    sqltable = sqltable + ');'\n",
    "    \n",
    "    # A connection is made to the database and the table is created.\n",
    "    connection = sqlite3.connect('ResultDatabase.db')\n",
    "    cursor = connection.cursor()\n",
    "    cursor.execute(sqltable)\n",
    "    \n",
    "    # Save changes and insert the data frame into the sql table.\n",
    "    connection.commit()\n",
    "    df.to_sql(tablename, if_exists = 'replace', con=connection)\n",
    "    \n",
    "    # Save changes and close the connection.\n",
    "    connection.commit()\n",
    "    connection.close()\n",
    "    \n",
    "    \n",
    "# Create a table for each test data frame, and store them in the database.\n",
    "StoreData(df_FormattedCleanTest1, 'test1')\n",
    "StoreData(df_FormattedCleanTest2, 'test2')\n",
    "StoreData(df_FormattedCleanTest3, 'test3')\n",
    "StoreData(df_FormattedCleanTest4, 'test4')\n",
    "StoreData(df_FormattedCleanMockTest, 'MockTest')\n",
    "StoreData(df_FormattedCleanSumTest, 'SumTest')\n",
    "\n",
    "  \n",
    "    "
   ]
  },
  {
   "cell_type": "markdown",
   "id": "4c8bf32b",
   "metadata": {},
   "source": [
    "## Modify Data"
   ]
  },
  {
   "cell_type": "code",
   "execution_count": 28,
   "id": "fb773a7a",
   "metadata": {},
   "outputs": [
    {
     "name": "stderr",
     "output_type": "stream",
     "text": [
      "C:\\Users\\kipye\\AppData\\Local\\Temp/ipykernel_16268/1863607280.py:21: SettingWithCopyWarning: \n",
      "A value is trying to be set on a copy of a slice from a DataFrame.\n",
      "Try using .loc[row_indexer,col_indexer] = value instead\n",
      "\n",
      "See the caveats in the documentation: https://pandas.pydata.org/pandas-docs/stable/user_guide/indexing.html#returning-a-view-versus-a-copy\n",
      "  my_df['Grade'] = sum([my_df['Q1'] * 500, my_df['Q2'] * 300, my_df['Q3'] * 600, my_df['Q4'] * 700,\n"
     ]
    }
   ],
   "source": [
    "# Set random seed as 3 to ensure reproducibility.\n",
    "np.random.seed(3)\n",
    "\n",
    "# Generate 20 random numbers between 0 and 150 and store in x. Generate 3 random numbers between 0 and 13 and store in y.\n",
    "x = np.random.randint(150, size = 20)\n",
    "y = np.random.choice(13,3, replace = False)\n",
    "\n",
    "# Use the random numbers in x to select rows in the formatted SumTest data frame and save as my_df.\n",
    "my_df = df_FormattedCleanSumTest.iloc[x]\n",
    "\n",
    "# Make a list that has the column names of the randomly selected questions.\n",
    "list1 = []\n",
    "for i in range(0,3):\n",
    "    list1.append(\"Q\"+str(y[i]))\n",
    "\n",
    "# Fill the question columns of the extracted rows with random numbers between 0 and 100.\n",
    "for i in range(0,3):\n",
    "    my_df.loc[:,list1[i]] = np.random.randint(100, size = len(my_df))\n",
    "\n",
    "# Calculate the total in the 'Grade' column, with weighted marks from each of the questions.\n",
    "my_df['Grade'] = sum([my_df['Q1'] * 500, my_df['Q2'] * 300, my_df['Q3'] * 600, my_df['Q4'] * 700, \n",
    "                      my_df['Q5'] * 400, my_df['Q6'] * 500,my_df['Q7'] * 1500, my_df['Q8'] * 1500, my_df['Q9'] * 1500,\n",
    "                      my_df['Q10'] * 1000, my_df['Q11'] * 400, my_df['Q12'] * 500, my_df['Q13'] * 600])/10000\n",
    "\n",
    "# Update the formatted clean SumTest dataframe with the modified extracted rows and columns.\n",
    "df_FormattedCleanSumTest.update(my_df)\n",
    "\n",
    "# Update the table in the ResultDatabase with the updated data frame.\n",
    "StoreData(df_FormattedCleanSumTest, 'SumTest')\n"
   ]
  }
 ],
 "metadata": {
  "kernelspec": {
   "display_name": "Python 3 (ipykernel)",
   "language": "python",
   "name": "python3"
  },
  "language_info": {
   "codemirror_mode": {
    "name": "ipython",
    "version": 3
   },
   "file_extension": ".py",
   "mimetype": "text/x-python",
   "name": "python",
   "nbconvert_exporter": "python",
   "pygments_lexer": "ipython3",
   "version": "3.9.7"
  }
 },
 "nbformat": 4,
 "nbformat_minor": 5
}
